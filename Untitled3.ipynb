{
  "nbformat": 4,
  "nbformat_minor": 0,
  "metadata": {
    "colab": {
      "provenance": [],
      "authorship_tag": "ABX9TyNY9wY1mxTWAwdaq7vpdqIR",
      "include_colab_link": true
    },
    "kernelspec": {
      "name": "python3",
      "display_name": "Python 3"
    },
    "language_info": {
      "name": "python"
    }
  },
  "cells": [
    {
      "cell_type": "markdown",
      "metadata": {
        "id": "view-in-github",
        "colab_type": "text"
      },
      "source": [
        "<a href=\"https://colab.research.google.com/github/mgasilva/disciplina_tecnicas_de_programacao_atividade_3/blob/main/Untitled3.ipynb\" target=\"_parent\"><img src=\"https://colab.research.google.com/assets/colab-badge.svg\" alt=\"Open In Colab\"/></a>"
      ]
    },
    {
      "cell_type": "code",
      "execution_count": null,
      "metadata": {
        "id": "5A9PAE-gXk5a"
      },
      "outputs": [],
      "source": [
        "# prompt: crie uma classe plantonista, que tem número de plantões propostos, número de plantòes dados, e uma lista de dias de férias\n",
        "\n",
        "class Plantonista:\n",
        "  def __init__(self, nome, num_plant_prim, num_plant_seg, dias_ferias):\n",
        "    self.nome = nome\n",
        "    self.num_plant_prim_propostos = num_plant_prim\n",
        "    self.num_plant_seg_propostos = num_plant_seg\n",
        "    self.num_plant_dados = 0\n",
        "    self.dias_ferias = dias_ferias"
      ]
    },
    {
      "cell_type": "code",
      "source": [
        "# prompt: auero uma função que converta a ordem do dia num ano em sua data, exemplo: 1 = primeiro de janeiro, 32 = primeiro de fevereiro, etc.\n",
        "\n",
        "def ordem_do_dia_para_data(ordem_do_dia, ano):\n",
        "  meses = [31, 28, 31, 30, 31, 30, 31, 31, 30, 31, 30, 31]\n",
        "  if ano % 4 == 0 and ano % 100 != 0 or ano % 400 == 0:\n",
        "    meses[1] = 29\n",
        "\n",
        "  dia = ordem_do_dia\n",
        "  mes = 0\n",
        "  while dia > meses[mes]:\n",
        "    dia -= meses[mes]\n",
        "    mes += 1\n",
        "\n",
        "  return (dia,mes+1)\n",
        "\n",
        "def data_para_ordem_do_dia(dia, mes, ano):\n",
        "    meses = [31, 28, 31, 30, 31, 30, 31, 31, 30, 31, 30, 31]\n",
        "    if ano % 4 == 0 and ano % 100 != 0 or ano % 400 == 0:\n",
        "        meses[1] = 29\n",
        "\n",
        "    ordem = 0\n",
        "    while mes > 1:\n",
        "        mes -= 1\n",
        "        ordem += meses[mes-1]\n",
        "    ordem += dia\n",
        "    return (ordem)\n"
      ],
      "metadata": {
        "colab": {
          "base_uri": "https://localhost:8080/"
        },
        "id": "ZMQ7QBhRYqnL",
        "outputId": "f6ad453a-4b4e-40f8-e4bd-671a58657fee"
      },
      "execution_count": null,
      "outputs": [
        {
          "output_type": "stream",
          "name": "stdout",
          "text": [
            "(15, 6)\n"
          ]
        }
      ]
    },
    {
      "cell_type": "code",
      "source": [
        "# prompt: como fazer uma lista de objetos da classe Plantonista?\n",
        "\n",
        "plantonistas = [\n",
        "  Plantonista(\"João\", 70, 5, [1,2,3,4,5,6,7,8,9,10]),\n",
        "  Plantonista(\"Maria\", 70, 4, [11,12,13,14,15,16,17,18,19,20]),\n",
        "  Plantonista(\"José\", 70, 2, [21,22,23,24,25,26,27,28,29,30])\n",
        "  ]\n",
        "\n",
        "FDS = Plantonista(\"FDS\", 200, 200,[])\n"
      ],
      "metadata": {
        "id": "3CoqvlJhZYwN"
      },
      "execution_count": null,
      "outputs": []
    },
    {
      "cell_type": "code",
      "source": [],
      "metadata": {
        "id": "8o0LB21uU_p7"
      },
      "execution_count": null,
      "outputs": []
    },
    {
      "cell_type": "code",
      "source": [
        "# prompt: quero uma função que preencha uma lista com nomes aleatórios da lista \"plantonistas\"\n",
        "\n",
        "import random\n",
        "def get_random_plantonistas(n):\n",
        "  plantonistas_aleatorios = []\n",
        "  for i in range(n):\n",
        "    if i % 7 in [4,5,6]:\n",
        "      plantonistas_aleatorios.append(FDS)\n",
        "    else:\n",
        "      while(1):\n",
        "        um_plantonista = random.choice(plantonistas)\n",
        "        if i == 0:\n",
        "          break\n",
        "        if um_plantonista != plantonistas_aleatorios[-1] and um_plantonista.num_plant_dados < um_plantonista.num_plant_prim_propostos:\n",
        "          break\n",
        "      plantonistas_aleatorios.append(um_plantonista)\n",
        "      um_plantonista.num_plant_dados +=1\n",
        "  return plantonistas_aleatorios\n",
        "\n",
        "plantonistas_aleatorios=get_random_plantonistas(366)\n",
        "for i in range (366):\n",
        "    print(ordem_do_dia_para_data(i+1,2024),\": \",plantonistas_aleatorios[i].nome)\n",
        "conta = 0\n",
        "for membros in plantonistas:\n",
        "    print(membros.num_plant_dados)\n",
        "    conta += membros.num_plant_dados\n",
        "print(conta)"
      ],
      "metadata": {
        "colab": {
          "base_uri": "https://localhost:8080/",
          "height": 375
        },
        "id": "NWhlmuwVfuL7",
        "outputId": "ea719294-b203-4ead-f249-9c98506e5e63"
      },
      "execution_count": null,
      "outputs": [
        {
          "output_type": "error",
          "ename": "KeyboardInterrupt",
          "evalue": "ignored",
          "traceback": [
            "\u001b[0;31m---------------------------------------------------------------------------\u001b[0m",
            "\u001b[0;31mKeyboardInterrupt\u001b[0m                         Traceback (most recent call last)",
            "\u001b[0;32m<ipython-input-78-327f64d511d2>\u001b[0m in \u001b[0;36m<cell line: 20>\u001b[0;34m()\u001b[0m\n\u001b[1;32m     18\u001b[0m   \u001b[0;32mreturn\u001b[0m \u001b[0mplantonistas_aleatorios\u001b[0m\u001b[0;34m\u001b[0m\u001b[0;34m\u001b[0m\u001b[0m\n\u001b[1;32m     19\u001b[0m \u001b[0;34m\u001b[0m\u001b[0m\n\u001b[0;32m---> 20\u001b[0;31m \u001b[0mplantonistas_aleatorios\u001b[0m\u001b[0;34m=\u001b[0m\u001b[0mget_random_plantonistas\u001b[0m\u001b[0;34m(\u001b[0m\u001b[0;36m366\u001b[0m\u001b[0;34m)\u001b[0m\u001b[0;34m\u001b[0m\u001b[0;34m\u001b[0m\u001b[0m\n\u001b[0m\u001b[1;32m     21\u001b[0m \u001b[0;32mfor\u001b[0m \u001b[0mi\u001b[0m \u001b[0;32min\u001b[0m \u001b[0mrange\u001b[0m \u001b[0;34m(\u001b[0m\u001b[0;36m366\u001b[0m\u001b[0;34m)\u001b[0m\u001b[0;34m:\u001b[0m\u001b[0;34m\u001b[0m\u001b[0;34m\u001b[0m\u001b[0m\n\u001b[1;32m     22\u001b[0m     \u001b[0mprint\u001b[0m\u001b[0;34m(\u001b[0m\u001b[0mordem_do_dia_para_data\u001b[0m\u001b[0;34m(\u001b[0m\u001b[0mi\u001b[0m\u001b[0;34m+\u001b[0m\u001b[0;36m1\u001b[0m\u001b[0;34m,\u001b[0m\u001b[0;36m2024\u001b[0m\u001b[0;34m)\u001b[0m\u001b[0;34m,\u001b[0m\u001b[0;34m\": \"\u001b[0m\u001b[0;34m,\u001b[0m\u001b[0mplantonistas_aleatorios\u001b[0m\u001b[0;34m[\u001b[0m\u001b[0mi\u001b[0m\u001b[0;34m]\u001b[0m\u001b[0;34m.\u001b[0m\u001b[0mnome\u001b[0m\u001b[0;34m)\u001b[0m\u001b[0;34m\u001b[0m\u001b[0;34m\u001b[0m\u001b[0m\n",
            "\u001b[0;32m<ipython-input-78-327f64d511d2>\u001b[0m in \u001b[0;36mget_random_plantonistas\u001b[0;34m(n)\u001b[0m\n\u001b[1;32m      9\u001b[0m     \u001b[0;32melse\u001b[0m\u001b[0;34m:\u001b[0m\u001b[0;34m\u001b[0m\u001b[0;34m\u001b[0m\u001b[0m\n\u001b[1;32m     10\u001b[0m       \u001b[0;32mwhile\u001b[0m\u001b[0;34m(\u001b[0m\u001b[0;36m1\u001b[0m\u001b[0;34m)\u001b[0m\u001b[0;34m:\u001b[0m\u001b[0;34m\u001b[0m\u001b[0;34m\u001b[0m\u001b[0m\n\u001b[0;32m---> 11\u001b[0;31m         \u001b[0mum_plantonista\u001b[0m \u001b[0;34m=\u001b[0m \u001b[0mrandom\u001b[0m\u001b[0;34m.\u001b[0m\u001b[0mchoice\u001b[0m\u001b[0;34m(\u001b[0m\u001b[0mplantonistas\u001b[0m\u001b[0;34m)\u001b[0m\u001b[0;34m\u001b[0m\u001b[0;34m\u001b[0m\u001b[0m\n\u001b[0m\u001b[1;32m     12\u001b[0m         \u001b[0;32mif\u001b[0m \u001b[0mi\u001b[0m \u001b[0;34m==\u001b[0m \u001b[0;36m0\u001b[0m\u001b[0;34m:\u001b[0m\u001b[0;34m\u001b[0m\u001b[0;34m\u001b[0m\u001b[0m\n\u001b[1;32m     13\u001b[0m           \u001b[0;32mbreak\u001b[0m\u001b[0;34m\u001b[0m\u001b[0;34m\u001b[0m\u001b[0m\n",
            "\u001b[0;31mKeyboardInterrupt\u001b[0m: "
          ]
        }
      ]
    }
  ]
}